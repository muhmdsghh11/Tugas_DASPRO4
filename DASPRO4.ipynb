{
 "cells": [
  {
   "cell_type": "code",
   "execution_count": null,
   "id": "a00603ac-137f-458b-8938-dde5399f7149",
   "metadata": {},
   "outputs": [],
   "source": [
    "Operator Arimatika"
   ]
  },
  {
   "cell_type": "markdown",
   "id": "175add78",
   "metadata": {},
   "source": [
    "Operator Aritmetika"
   ]
  },
  {
   "cell_type": "code",
   "execution_count": null,
   "id": "46801796-f84c-41e8-bc3b-4602b03f7fbe",
   "metadata": {},
   "outputs": [],
   "source": [
    "x = input(\"Apel milik Budi:\")\n",
    "y = input(\"Apel milik Teman:\")\n",
    "z = input(\"Apel tambahan Budi:\")\n",
    "x = int(x)\n",
    "y = int(y)\n",
    "z = int(z)\n",
    "hasilbagi = x / y\n",
    "tambahan = x + z\n",
    "print(\"Hasil Bagi\",x,\"/\",y,\"=\",hasilbagi)\n",
    "print(\"Hasil tambahan\",x,\"+\",z,\"=\",tambahan)"
   ]
  },
  {
   "cell_type": "code",
   "execution_count": null,
   "id": "7269952a-7416-4718-b26b-c4d156561b74",
   "metadata": {},
   "outputs": [],
   "source": [
    "Operator Perbandingan\n"
   ]
  },
  {
   "cell_type": "code",
   "execution_count": null,
   "id": "cb5a69bc-3ade-410f-9dcb-5157889454e0",
   "metadata": {},
   "outputs": [],
   "source": [
    "Siti = 160\n",
    "Andi = 165\n",
    "\n",
    "print(Siti,\"=\",Andi,Siti==Andi)\n",
    "print(Siti,\"!=\",Andi,Siti!=Andi)\n",
    "print(Siti,\">\",Andi,Siti>Andi)\n",
    "print(Siti,\"<\",Andi,Siti<Andi)\n",
    "print(Siti,\">=\",Andi,Siti>=Andi)\n",
    "print(Siti,\"<=\",Andi,Siti<=Andi)"
   ]
  },
  {
   "cell_type": "code",
   "execution_count": null,
   "id": "e61f7f4e-7eb0-43d2-8515-56587d082d8c",
   "metadata": {},
   "outputs": [],
   "source": [
    "Operator Logika"
   ]
  },
  {
   "cell_type": "code",
   "execution_count": null,
   "id": "60d45a7d-72c5-4f7b-b259-c6cdeaaeef59",
   "metadata": {},
   "outputs": [],
   "source": [
    "Cuaca_cerah = input(\"Apakah cuaca cerah? (True/False):\")\n",
    "PR_selesai = input(\"Apakah PR selesai? (True/False):\") \n",
    "if Cuaca_cerah == \"True\" and PR_selesai == \"True\":\n",
    "    budibisabermain = \"boleh\"\n",
    "else:\n",
    "    budibisabermain = \"jangan\"\n",
    "print(\"Apakah Budi bisa bermain? :\",budibisabermain)"
   ]
  },
  {
   "cell_type": "code",
   "execution_count": null,
   "id": "a1108c18-0cd2-4bb7-8251-3619250bdf51",
   "metadata": {},
   "outputs": [],
   "source": [
    "Operator Bitwise"
   ]
  },
  {
   "cell_type": "code",
   "execution_count": null,
   "id": "d93a8e84-3d6a-43ca-a8f6-e6891906350a",
   "metadata": {},
   "outputs": [],
   "source": [
    "num_1 = 6\n",
    "num_2 = 3\n",
    "\n",
    "print(num_1 & num_2)\n",
    "print(num_1 | num_2)\n",
    "print(num_1 ^ num_2)"
   ]
  },
  {
   "cell_type": "code",
   "execution_count": null,
   "id": "16175f31-9307-4c13-9874-b213d2029a16",
   "metadata": {},
   "outputs": [],
   "source": [
    "Operator Penugansan"
   ]
  },
  {
   "cell_type": "code",
   "execution_count": null,
   "id": "8588173c-c686-4756-90a4-ae2bdeaa7d9a",
   "metadata": {},
   "outputs": [],
   "source": [
    "peserta_lomba = [\"Andi\", \"Budi\", \"Citra\", \"Dewi\" ]\n",
    "temukan = \"Eka\"\n",
    "print(temukan in peserta_lomba)\n",
    "\n",
    "kalimat = \"Saya suka belajar Python\"\n",
    "temukan = \"Python\"\n",
    "print(temukan in kalimat)"
   ]
  },
  {
   "cell_type": "code",
   "execution_count": null,
   "id": "5971148c-df04-47de-b64e-862fedf93433",
   "metadata": {},
   "outputs": [],
   "source": [
    "Operator keanggotaaan"
   ]
  },
  {
   "cell_type": "code",
   "execution_count": null,
   "id": "657ed745-2b77-49a6-a6e9-44216dc8b07d",
   "metadata": {},
   "outputs": [],
   "source": [
    "peserta_lomba = [\"Andi\", \"Budi\", \"Citra\", \"Dewi\" ]\n",
    "temukan = \"Eka\"\n",
    "print(temukan in peserta_lomba)\n",
    "\n",
    "kalimat = \"Saya suka belajar Python\"\n",
    "temukan = \"Python\"\n",
    "print(temukan in kalimat)"
   ]
  },
  {
   "cell_type": "code",
   "execution_count": null,
   "id": "c02c7bf4-c6a8-4f6a-b059-8c6bf50fadb4",
   "metadata": {},
   "outputs": [],
   "source": [
    "Operator Identitas"
   ]
  },
  {
   "cell_type": "code",
   "execution_count": null,
   "id": "816bc965-7d32-4de8-938e-c4fcd92b5c4e",
   "metadata": {},
   "outputs": [],
   "source": [
    "x = 5\n",
    "y = 5\n",
    "print(\"id variabel x adalah\",id(x))\n",
    "print(\"id variabel y adalah\",id(y))\n",
    "print(\"Apakah x sama dengan y?\",x is y)\n",
    "\n",
    "list_1 = [\"2\", \"3\", \"5\", \"7\", \"9\"]\n",
    "list_2 = [\"2\", \"3\", \"5\", \"7\", \"9\"]\n",
    "hasil = list_1 is list_2\n",
    "print(\"Apakah kedua list tersebut mengacu ke objek yang sama?\",hasil)"
   ]
  },
  {
   "cell_type": "code",
   "execution_count": null,
   "id": "5fe0b7c0-ad1f-4784-bbab-1424ef0af289",
   "metadata": {},
   "outputs": [],
   "source": [
    "Operator Ternary"
   ]
  },
  {
   "cell_type": "code",
   "execution_count": null,
   "id": "da6ed9c7-7000-4814-a206-e3e05eb4600a",
   "metadata": {},
   "outputs": [],
   "source": [
    "x = int(input(\"Nilai x:\"))\n",
    "y = 100\n",
    "islebihtinggi = \"Nilai x lebih besar dari 100\" if x > y else \"Nilai x lebih kecil dari 100\"\n",
    "print(islebihtinggi)"
   ]
  },
  {
   "cell_type": "code",
   "execution_count": null,
   "id": "63b58d71-64d9-4b6a-a160-15820dcbb0eb",
   "metadata": {},
   "outputs": [],
   "source": [
    "x = int(input(\"Nilai matkul:\"))\n",
    "y = 70\n",
    "islulus = \"Lulus\" if x > y else \"Tidak Lulus\"\n",
    "print(islulus)"
   ]
  }
 ],
 "metadata": {
  "kernelspec": {
   "display_name": "anaconda-2024.02-py310",
   "language": "python",
   "name": "conda-env-anaconda-2024.02-py310-py"
  },
  "language_info": {
   "codemirror_mode": {
    "name": "ipython",
    "version": 3
   },
   "file_extension": ".py",
   "mimetype": "text/x-python",
   "name": "python",
   "nbconvert_exporter": "python",
   "pygments_lexer": "ipython3",
   "version": "3.10.14"
  }
 },
 "nbformat": 4,
 "nbformat_minor": 5
}
